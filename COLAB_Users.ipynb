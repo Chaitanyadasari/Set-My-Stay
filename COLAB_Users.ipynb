{
 "cells": [
  {
   "cell_type": "code",
   "execution_count": 2,
   "metadata": {},
   "outputs": [],
   "source": [
    "from surprise import *\n",
    "import pandas as pd\n",
    "from surprise import accuracy\n",
    "from surprise.model_selection.split import train_test_split\n",
    "from surprise.model_selection import cross_validate, GridSearchCV\n",
    "import numpy as np"
   ]
  },
  {
   "cell_type": "code",
   "execution_count": null,
   "metadata": {},
   "outputs": [],
   "source": []
  },
  {
   "cell_type": "code",
   "execution_count": 3,
   "metadata": {},
   "outputs": [],
   "source": [
    "# df= pd.read_csv('Final_usersData_withratings_600k.csv')"
   ]
  },
  {
   "cell_type": "code",
   "execution_count": 4,
   "metadata": {},
   "outputs": [
    {
     "data": {
      "text/html": [
       "<div>\n",
       "<style scoped>\n",
       "    .dataframe tbody tr th:only-of-type {\n",
       "        vertical-align: middle;\n",
       "    }\n",
       "\n",
       "    .dataframe tbody tr th {\n",
       "        vertical-align: top;\n",
       "    }\n",
       "\n",
       "    .dataframe thead th {\n",
       "        text-align: right;\n",
       "    }\n",
       "</style>\n",
       "<table border=\"1\" class=\"dataframe\">\n",
       "  <thead>\n",
       "    <tr style=\"text-align: right;\">\n",
       "      <th></th>\n",
       "      <th>Unnamed: 0</th>\n",
       "      <th>Unnamed: 0.1</th>\n",
       "      <th>reviewer_id</th>\n",
       "      <th>reviewer_name</th>\n",
       "      <th>soloTrip</th>\n",
       "      <th>FamilyTrip</th>\n",
       "      <th>Holiday</th>\n",
       "      <th>Business</th>\n",
       "      <th>short</th>\n",
       "      <th>long</th>\n",
       "      <th>listings</th>\n",
       "      <th>ratings</th>\n",
       "    </tr>\n",
       "  </thead>\n",
       "  <tbody>\n",
       "    <tr>\n",
       "      <td>0</td>\n",
       "      <td>0</td>\n",
       "      <td>450033</td>\n",
       "      <td>64865321</td>\n",
       "      <td>Caitlin</td>\n",
       "      <td>0</td>\n",
       "      <td>1</td>\n",
       "      <td>0</td>\n",
       "      <td>1</td>\n",
       "      <td>1</td>\n",
       "      <td>0</td>\n",
       "      <td>118117</td>\n",
       "      <td>9</td>\n",
       "    </tr>\n",
       "    <tr>\n",
       "      <td>1</td>\n",
       "      <td>1</td>\n",
       "      <td>1178063</td>\n",
       "      <td>26272480</td>\n",
       "      <td>Cristina</td>\n",
       "      <td>1</td>\n",
       "      <td>0</td>\n",
       "      <td>0</td>\n",
       "      <td>1</td>\n",
       "      <td>0</td>\n",
       "      <td>1</td>\n",
       "      <td>545821</td>\n",
       "      <td>7</td>\n",
       "    </tr>\n",
       "    <tr>\n",
       "      <td>2</td>\n",
       "      <td>2</td>\n",
       "      <td>1984215</td>\n",
       "      <td>73490335</td>\n",
       "      <td>Bruno</td>\n",
       "      <td>1</td>\n",
       "      <td>0</td>\n",
       "      <td>0</td>\n",
       "      <td>1</td>\n",
       "      <td>0</td>\n",
       "      <td>1</td>\n",
       "      <td>55868</td>\n",
       "      <td>7</td>\n",
       "    </tr>\n",
       "    <tr>\n",
       "      <td>3</td>\n",
       "      <td>3</td>\n",
       "      <td>2371075</td>\n",
       "      <td>9938883</td>\n",
       "      <td>Román</td>\n",
       "      <td>0</td>\n",
       "      <td>1</td>\n",
       "      <td>0</td>\n",
       "      <td>1</td>\n",
       "      <td>0</td>\n",
       "      <td>1</td>\n",
       "      <td>85145</td>\n",
       "      <td>6</td>\n",
       "    </tr>\n",
       "    <tr>\n",
       "      <td>4</td>\n",
       "      <td>4</td>\n",
       "      <td>385286</td>\n",
       "      <td>3824717</td>\n",
       "      <td>Татьяна</td>\n",
       "      <td>1</td>\n",
       "      <td>0</td>\n",
       "      <td>0</td>\n",
       "      <td>1</td>\n",
       "      <td>1</td>\n",
       "      <td>0</td>\n",
       "      <td>305809</td>\n",
       "      <td>6</td>\n",
       "    </tr>\n",
       "    <tr>\n",
       "      <td>...</td>\n",
       "      <td>...</td>\n",
       "      <td>...</td>\n",
       "      <td>...</td>\n",
       "      <td>...</td>\n",
       "      <td>...</td>\n",
       "      <td>...</td>\n",
       "      <td>...</td>\n",
       "      <td>...</td>\n",
       "      <td>...</td>\n",
       "      <td>...</td>\n",
       "      <td>...</td>\n",
       "      <td>...</td>\n",
       "    </tr>\n",
       "    <tr>\n",
       "      <td>599995</td>\n",
       "      <td>599995</td>\n",
       "      <td>1782455</td>\n",
       "      <td>67625525</td>\n",
       "      <td>Kelly</td>\n",
       "      <td>1</td>\n",
       "      <td>0</td>\n",
       "      <td>0</td>\n",
       "      <td>1</td>\n",
       "      <td>1</td>\n",
       "      <td>0</td>\n",
       "      <td>59182</td>\n",
       "      <td>2</td>\n",
       "    </tr>\n",
       "    <tr>\n",
       "      <td>599996</td>\n",
       "      <td>599996</td>\n",
       "      <td>248816</td>\n",
       "      <td>4786209</td>\n",
       "      <td>Simon</td>\n",
       "      <td>0</td>\n",
       "      <td>1</td>\n",
       "      <td>0</td>\n",
       "      <td>1</td>\n",
       "      <td>1</td>\n",
       "      <td>0</td>\n",
       "      <td>21167</td>\n",
       "      <td>5</td>\n",
       "    </tr>\n",
       "    <tr>\n",
       "      <td>599997</td>\n",
       "      <td>599997</td>\n",
       "      <td>717051</td>\n",
       "      <td>13661577</td>\n",
       "      <td>Josh</td>\n",
       "      <td>1</td>\n",
       "      <td>0</td>\n",
       "      <td>0</td>\n",
       "      <td>1</td>\n",
       "      <td>0</td>\n",
       "      <td>1</td>\n",
       "      <td>203658</td>\n",
       "      <td>5</td>\n",
       "    </tr>\n",
       "    <tr>\n",
       "      <td>599998</td>\n",
       "      <td>599998</td>\n",
       "      <td>1464135</td>\n",
       "      <td>21627535</td>\n",
       "      <td>Višnja</td>\n",
       "      <td>1</td>\n",
       "      <td>0</td>\n",
       "      <td>1</td>\n",
       "      <td>0</td>\n",
       "      <td>1</td>\n",
       "      <td>0</td>\n",
       "      <td>135097</td>\n",
       "      <td>0</td>\n",
       "    </tr>\n",
       "    <tr>\n",
       "      <td>599999</td>\n",
       "      <td>599999</td>\n",
       "      <td>1931228</td>\n",
       "      <td>35505495</td>\n",
       "      <td>Jill</td>\n",
       "      <td>1</td>\n",
       "      <td>0</td>\n",
       "      <td>0</td>\n",
       "      <td>1</td>\n",
       "      <td>1</td>\n",
       "      <td>0</td>\n",
       "      <td>33114</td>\n",
       "      <td>0</td>\n",
       "    </tr>\n",
       "  </tbody>\n",
       "</table>\n",
       "<p>600000 rows × 12 columns</p>\n",
       "</div>"
      ],
      "text/plain": [
       "        Unnamed: 0  Unnamed: 0.1  reviewer_id reviewer_name  soloTrip  \\\n",
       "0                0        450033     64865321       Caitlin         0   \n",
       "1                1       1178063     26272480      Cristina         1   \n",
       "2                2       1984215     73490335         Bruno         1   \n",
       "3                3       2371075      9938883         Román         0   \n",
       "4                4        385286      3824717       Татьяна         1   \n",
       "...            ...           ...          ...           ...       ...   \n",
       "599995      599995       1782455     67625525         Kelly         1   \n",
       "599996      599996        248816      4786209         Simon         0   \n",
       "599997      599997        717051     13661577          Josh         1   \n",
       "599998      599998       1464135     21627535        Višnja         1   \n",
       "599999      599999       1931228     35505495          Jill         1   \n",
       "\n",
       "        FamilyTrip  Holiday  Business  short  long  listings  ratings  \n",
       "0                1        0         1      1     0    118117        9  \n",
       "1                0        0         1      0     1    545821        7  \n",
       "2                0        0         1      0     1     55868        7  \n",
       "3                1        0         1      0     1     85145        6  \n",
       "4                0        0         1      1     0    305809        6  \n",
       "...            ...      ...       ...    ...   ...       ...      ...  \n",
       "599995           0        0         1      1     0     59182        2  \n",
       "599996           1        0         1      1     0     21167        5  \n",
       "599997           0        0         1      0     1    203658        5  \n",
       "599998           0        1         0      1     0    135097        0  \n",
       "599999           0        0         1      1     0     33114        0  \n",
       "\n",
       "[600000 rows x 12 columns]"
      ]
     },
     "execution_count": 4,
     "metadata": {},
     "output_type": "execute_result"
    }
   ],
   "source": [
    "df"
   ]
  },
  {
   "cell_type": "code",
   "execution_count": 5,
   "metadata": {},
   "outputs": [
    {
     "data": {
      "text/plain": [
       "Unnamed: 0       0\n",
       "Unnamed: 0.1     0\n",
       "reviewer_id      0\n",
       "reviewer_name    0\n",
       "soloTrip         0\n",
       "FamilyTrip       0\n",
       "Holiday          0\n",
       "Business         0\n",
       "short            0\n",
       "long             0\n",
       "listings         0\n",
       "ratings          0\n",
       "dtype: int64"
      ]
     },
     "execution_count": 5,
     "metadata": {},
     "output_type": "execute_result"
    }
   ],
   "source": [
    "df.isnull().sum()"
   ]
  },
  {
   "cell_type": "code",
   "execution_count": 6,
   "metadata": {},
   "outputs": [],
   "source": [
    "df = df.drop(columns=['Unnamed: 0.1','Unnamed: 0'])"
   ]
  },
  {
   "cell_type": "code",
   "execution_count": 7,
   "metadata": {},
   "outputs": [
    {
     "data": {
      "text/html": [
       "<div>\n",
       "<style scoped>\n",
       "    .dataframe tbody tr th:only-of-type {\n",
       "        vertical-align: middle;\n",
       "    }\n",
       "\n",
       "    .dataframe tbody tr th {\n",
       "        vertical-align: top;\n",
       "    }\n",
       "\n",
       "    .dataframe thead th {\n",
       "        text-align: right;\n",
       "    }\n",
       "</style>\n",
       "<table border=\"1\" class=\"dataframe\">\n",
       "  <thead>\n",
       "    <tr style=\"text-align: right;\">\n",
       "      <th></th>\n",
       "      <th>reviewer_id</th>\n",
       "      <th>reviewer_name</th>\n",
       "      <th>soloTrip</th>\n",
       "      <th>FamilyTrip</th>\n",
       "      <th>Holiday</th>\n",
       "      <th>Business</th>\n",
       "      <th>short</th>\n",
       "      <th>long</th>\n",
       "      <th>listings</th>\n",
       "      <th>ratings</th>\n",
       "    </tr>\n",
       "  </thead>\n",
       "  <tbody>\n",
       "    <tr>\n",
       "      <td>0</td>\n",
       "      <td>64865321</td>\n",
       "      <td>Caitlin</td>\n",
       "      <td>0</td>\n",
       "      <td>1</td>\n",
       "      <td>0</td>\n",
       "      <td>1</td>\n",
       "      <td>1</td>\n",
       "      <td>0</td>\n",
       "      <td>118117</td>\n",
       "      <td>9</td>\n",
       "    </tr>\n",
       "    <tr>\n",
       "      <td>1</td>\n",
       "      <td>26272480</td>\n",
       "      <td>Cristina</td>\n",
       "      <td>1</td>\n",
       "      <td>0</td>\n",
       "      <td>0</td>\n",
       "      <td>1</td>\n",
       "      <td>0</td>\n",
       "      <td>1</td>\n",
       "      <td>545821</td>\n",
       "      <td>7</td>\n",
       "    </tr>\n",
       "    <tr>\n",
       "      <td>2</td>\n",
       "      <td>73490335</td>\n",
       "      <td>Bruno</td>\n",
       "      <td>1</td>\n",
       "      <td>0</td>\n",
       "      <td>0</td>\n",
       "      <td>1</td>\n",
       "      <td>0</td>\n",
       "      <td>1</td>\n",
       "      <td>55868</td>\n",
       "      <td>7</td>\n",
       "    </tr>\n",
       "    <tr>\n",
       "      <td>3</td>\n",
       "      <td>9938883</td>\n",
       "      <td>Román</td>\n",
       "      <td>0</td>\n",
       "      <td>1</td>\n",
       "      <td>0</td>\n",
       "      <td>1</td>\n",
       "      <td>0</td>\n",
       "      <td>1</td>\n",
       "      <td>85145</td>\n",
       "      <td>6</td>\n",
       "    </tr>\n",
       "    <tr>\n",
       "      <td>4</td>\n",
       "      <td>3824717</td>\n",
       "      <td>Татьяна</td>\n",
       "      <td>1</td>\n",
       "      <td>0</td>\n",
       "      <td>0</td>\n",
       "      <td>1</td>\n",
       "      <td>1</td>\n",
       "      <td>0</td>\n",
       "      <td>305809</td>\n",
       "      <td>6</td>\n",
       "    </tr>\n",
       "    <tr>\n",
       "      <td>...</td>\n",
       "      <td>...</td>\n",
       "      <td>...</td>\n",
       "      <td>...</td>\n",
       "      <td>...</td>\n",
       "      <td>...</td>\n",
       "      <td>...</td>\n",
       "      <td>...</td>\n",
       "      <td>...</td>\n",
       "      <td>...</td>\n",
       "      <td>...</td>\n",
       "    </tr>\n",
       "    <tr>\n",
       "      <td>599995</td>\n",
       "      <td>67625525</td>\n",
       "      <td>Kelly</td>\n",
       "      <td>1</td>\n",
       "      <td>0</td>\n",
       "      <td>0</td>\n",
       "      <td>1</td>\n",
       "      <td>1</td>\n",
       "      <td>0</td>\n",
       "      <td>59182</td>\n",
       "      <td>2</td>\n",
       "    </tr>\n",
       "    <tr>\n",
       "      <td>599996</td>\n",
       "      <td>4786209</td>\n",
       "      <td>Simon</td>\n",
       "      <td>0</td>\n",
       "      <td>1</td>\n",
       "      <td>0</td>\n",
       "      <td>1</td>\n",
       "      <td>1</td>\n",
       "      <td>0</td>\n",
       "      <td>21167</td>\n",
       "      <td>5</td>\n",
       "    </tr>\n",
       "    <tr>\n",
       "      <td>599997</td>\n",
       "      <td>13661577</td>\n",
       "      <td>Josh</td>\n",
       "      <td>1</td>\n",
       "      <td>0</td>\n",
       "      <td>0</td>\n",
       "      <td>1</td>\n",
       "      <td>0</td>\n",
       "      <td>1</td>\n",
       "      <td>203658</td>\n",
       "      <td>5</td>\n",
       "    </tr>\n",
       "    <tr>\n",
       "      <td>599998</td>\n",
       "      <td>21627535</td>\n",
       "      <td>Višnja</td>\n",
       "      <td>1</td>\n",
       "      <td>0</td>\n",
       "      <td>1</td>\n",
       "      <td>0</td>\n",
       "      <td>1</td>\n",
       "      <td>0</td>\n",
       "      <td>135097</td>\n",
       "      <td>0</td>\n",
       "    </tr>\n",
       "    <tr>\n",
       "      <td>599999</td>\n",
       "      <td>35505495</td>\n",
       "      <td>Jill</td>\n",
       "      <td>1</td>\n",
       "      <td>0</td>\n",
       "      <td>0</td>\n",
       "      <td>1</td>\n",
       "      <td>1</td>\n",
       "      <td>0</td>\n",
       "      <td>33114</td>\n",
       "      <td>0</td>\n",
       "    </tr>\n",
       "  </tbody>\n",
       "</table>\n",
       "<p>600000 rows × 10 columns</p>\n",
       "</div>"
      ],
      "text/plain": [
       "        reviewer_id reviewer_name  soloTrip  FamilyTrip  Holiday  Business  \\\n",
       "0          64865321       Caitlin         0           1        0         1   \n",
       "1          26272480      Cristina         1           0        0         1   \n",
       "2          73490335         Bruno         1           0        0         1   \n",
       "3           9938883         Román         0           1        0         1   \n",
       "4           3824717       Татьяна         1           0        0         1   \n",
       "...             ...           ...       ...         ...      ...       ...   \n",
       "599995     67625525         Kelly         1           0        0         1   \n",
       "599996      4786209         Simon         0           1        0         1   \n",
       "599997     13661577          Josh         1           0        0         1   \n",
       "599998     21627535        Višnja         1           0        1         0   \n",
       "599999     35505495          Jill         1           0        0         1   \n",
       "\n",
       "        short  long  listings  ratings  \n",
       "0           1     0    118117        9  \n",
       "1           0     1    545821        7  \n",
       "2           0     1     55868        7  \n",
       "3           0     1     85145        6  \n",
       "4           1     0    305809        6  \n",
       "...       ...   ...       ...      ...  \n",
       "599995      1     0     59182        2  \n",
       "599996      1     0     21167        5  \n",
       "599997      0     1    203658        5  \n",
       "599998      1     0    135097        0  \n",
       "599999      1     0     33114        0  \n",
       "\n",
       "[600000 rows x 10 columns]"
      ]
     },
     "execution_count": 7,
     "metadata": {},
     "output_type": "execute_result"
    }
   ],
   "source": [
    "df"
   ]
  },
  {
   "cell_type": "code",
   "execution_count": 8,
   "metadata": {},
   "outputs": [],
   "source": [
    "coli = []\n",
    "for index, row in df.iterrows():\n",
    "    temp = str(row.soloTrip) + str(row.FamilyTrip) + str(row.Holiday) + str(row.Business) + str(row.short) + str(row.long) + str(row.listings)\n",
    "    coli.append(temp)\n",
    "    \n",
    "df['coli'] = coli"
   ]
  },
  {
   "cell_type": "code",
   "execution_count": 9,
   "metadata": {
    "scrolled": true
   },
   "outputs": [
    {
     "data": {
      "text/html": [
       "<div>\n",
       "<style scoped>\n",
       "    .dataframe tbody tr th:only-of-type {\n",
       "        vertical-align: middle;\n",
       "    }\n",
       "\n",
       "    .dataframe tbody tr th {\n",
       "        vertical-align: top;\n",
       "    }\n",
       "\n",
       "    .dataframe thead th {\n",
       "        text-align: right;\n",
       "    }\n",
       "</style>\n",
       "<table border=\"1\" class=\"dataframe\">\n",
       "  <thead>\n",
       "    <tr style=\"text-align: right;\">\n",
       "      <th></th>\n",
       "      <th>reviewer_id</th>\n",
       "      <th>reviewer_name</th>\n",
       "      <th>soloTrip</th>\n",
       "      <th>FamilyTrip</th>\n",
       "      <th>Holiday</th>\n",
       "      <th>Business</th>\n",
       "      <th>short</th>\n",
       "      <th>long</th>\n",
       "      <th>listings</th>\n",
       "      <th>ratings</th>\n",
       "      <th>coli</th>\n",
       "    </tr>\n",
       "  </thead>\n",
       "  <tbody>\n",
       "    <tr>\n",
       "      <td>0</td>\n",
       "      <td>64865321</td>\n",
       "      <td>Caitlin</td>\n",
       "      <td>0</td>\n",
       "      <td>1</td>\n",
       "      <td>0</td>\n",
       "      <td>1</td>\n",
       "      <td>1</td>\n",
       "      <td>0</td>\n",
       "      <td>118117</td>\n",
       "      <td>9</td>\n",
       "      <td>010110118117</td>\n",
       "    </tr>\n",
       "    <tr>\n",
       "      <td>1</td>\n",
       "      <td>26272480</td>\n",
       "      <td>Cristina</td>\n",
       "      <td>1</td>\n",
       "      <td>0</td>\n",
       "      <td>0</td>\n",
       "      <td>1</td>\n",
       "      <td>0</td>\n",
       "      <td>1</td>\n",
       "      <td>545821</td>\n",
       "      <td>7</td>\n",
       "      <td>100101545821</td>\n",
       "    </tr>\n",
       "    <tr>\n",
       "      <td>2</td>\n",
       "      <td>73490335</td>\n",
       "      <td>Bruno</td>\n",
       "      <td>1</td>\n",
       "      <td>0</td>\n",
       "      <td>0</td>\n",
       "      <td>1</td>\n",
       "      <td>0</td>\n",
       "      <td>1</td>\n",
       "      <td>55868</td>\n",
       "      <td>7</td>\n",
       "      <td>10010155868</td>\n",
       "    </tr>\n",
       "    <tr>\n",
       "      <td>3</td>\n",
       "      <td>9938883</td>\n",
       "      <td>Román</td>\n",
       "      <td>0</td>\n",
       "      <td>1</td>\n",
       "      <td>0</td>\n",
       "      <td>1</td>\n",
       "      <td>0</td>\n",
       "      <td>1</td>\n",
       "      <td>85145</td>\n",
       "      <td>6</td>\n",
       "      <td>01010185145</td>\n",
       "    </tr>\n",
       "    <tr>\n",
       "      <td>4</td>\n",
       "      <td>3824717</td>\n",
       "      <td>Татьяна</td>\n",
       "      <td>1</td>\n",
       "      <td>0</td>\n",
       "      <td>0</td>\n",
       "      <td>1</td>\n",
       "      <td>1</td>\n",
       "      <td>0</td>\n",
       "      <td>305809</td>\n",
       "      <td>6</td>\n",
       "      <td>100110305809</td>\n",
       "    </tr>\n",
       "    <tr>\n",
       "      <td>...</td>\n",
       "      <td>...</td>\n",
       "      <td>...</td>\n",
       "      <td>...</td>\n",
       "      <td>...</td>\n",
       "      <td>...</td>\n",
       "      <td>...</td>\n",
       "      <td>...</td>\n",
       "      <td>...</td>\n",
       "      <td>...</td>\n",
       "      <td>...</td>\n",
       "      <td>...</td>\n",
       "    </tr>\n",
       "    <tr>\n",
       "      <td>599995</td>\n",
       "      <td>67625525</td>\n",
       "      <td>Kelly</td>\n",
       "      <td>1</td>\n",
       "      <td>0</td>\n",
       "      <td>0</td>\n",
       "      <td>1</td>\n",
       "      <td>1</td>\n",
       "      <td>0</td>\n",
       "      <td>59182</td>\n",
       "      <td>2</td>\n",
       "      <td>10011059182</td>\n",
       "    </tr>\n",
       "    <tr>\n",
       "      <td>599996</td>\n",
       "      <td>4786209</td>\n",
       "      <td>Simon</td>\n",
       "      <td>0</td>\n",
       "      <td>1</td>\n",
       "      <td>0</td>\n",
       "      <td>1</td>\n",
       "      <td>1</td>\n",
       "      <td>0</td>\n",
       "      <td>21167</td>\n",
       "      <td>5</td>\n",
       "      <td>01011021167</td>\n",
       "    </tr>\n",
       "    <tr>\n",
       "      <td>599997</td>\n",
       "      <td>13661577</td>\n",
       "      <td>Josh</td>\n",
       "      <td>1</td>\n",
       "      <td>0</td>\n",
       "      <td>0</td>\n",
       "      <td>1</td>\n",
       "      <td>0</td>\n",
       "      <td>1</td>\n",
       "      <td>203658</td>\n",
       "      <td>5</td>\n",
       "      <td>100101203658</td>\n",
       "    </tr>\n",
       "    <tr>\n",
       "      <td>599998</td>\n",
       "      <td>21627535</td>\n",
       "      <td>Višnja</td>\n",
       "      <td>1</td>\n",
       "      <td>0</td>\n",
       "      <td>1</td>\n",
       "      <td>0</td>\n",
       "      <td>1</td>\n",
       "      <td>0</td>\n",
       "      <td>135097</td>\n",
       "      <td>0</td>\n",
       "      <td>101010135097</td>\n",
       "    </tr>\n",
       "    <tr>\n",
       "      <td>599999</td>\n",
       "      <td>35505495</td>\n",
       "      <td>Jill</td>\n",
       "      <td>1</td>\n",
       "      <td>0</td>\n",
       "      <td>0</td>\n",
       "      <td>1</td>\n",
       "      <td>1</td>\n",
       "      <td>0</td>\n",
       "      <td>33114</td>\n",
       "      <td>0</td>\n",
       "      <td>10011033114</td>\n",
       "    </tr>\n",
       "  </tbody>\n",
       "</table>\n",
       "<p>600000 rows × 11 columns</p>\n",
       "</div>"
      ],
      "text/plain": [
       "        reviewer_id reviewer_name  soloTrip  FamilyTrip  Holiday  Business  \\\n",
       "0          64865321       Caitlin         0           1        0         1   \n",
       "1          26272480      Cristina         1           0        0         1   \n",
       "2          73490335         Bruno         1           0        0         1   \n",
       "3           9938883         Román         0           1        0         1   \n",
       "4           3824717       Татьяна         1           0        0         1   \n",
       "...             ...           ...       ...         ...      ...       ...   \n",
       "599995     67625525         Kelly         1           0        0         1   \n",
       "599996      4786209         Simon         0           1        0         1   \n",
       "599997     13661577          Josh         1           0        0         1   \n",
       "599998     21627535        Višnja         1           0        1         0   \n",
       "599999     35505495          Jill         1           0        0         1   \n",
       "\n",
       "        short  long  listings  ratings          coli  \n",
       "0           1     0    118117        9  010110118117  \n",
       "1           0     1    545821        7  100101545821  \n",
       "2           0     1     55868        7   10010155868  \n",
       "3           0     1     85145        6   01010185145  \n",
       "4           1     0    305809        6  100110305809  \n",
       "...       ...   ...       ...      ...           ...  \n",
       "599995      1     0     59182        2   10011059182  \n",
       "599996      1     0     21167        5   01011021167  \n",
       "599997      0     1    203658        5  100101203658  \n",
       "599998      1     0    135097        0  101010135097  \n",
       "599999      1     0     33114        0   10011033114  \n",
       "\n",
       "[600000 rows x 11 columns]"
      ]
     },
     "execution_count": 9,
     "metadata": {},
     "output_type": "execute_result"
    }
   ],
   "source": [
    "df"
   ]
  },
  {
   "cell_type": "code",
   "execution_count": null,
   "metadata": {},
   "outputs": [],
   "source": [
    "# notebook start from here"
   ]
  },
  {
   "cell_type": "code",
   "execution_count": 3,
   "metadata": {},
   "outputs": [
    {
     "data": {
      "text/html": [
       "<div>\n",
       "<style scoped>\n",
       "    .dataframe tbody tr th:only-of-type {\n",
       "        vertical-align: middle;\n",
       "    }\n",
       "\n",
       "    .dataframe tbody tr th {\n",
       "        vertical-align: top;\n",
       "    }\n",
       "\n",
       "    .dataframe thead th {\n",
       "        text-align: right;\n",
       "    }\n",
       "</style>\n",
       "<table border=\"1\" class=\"dataframe\">\n",
       "  <thead>\n",
       "    <tr style=\"text-align: right;\">\n",
       "      <th></th>\n",
       "      <th>Unnamed: 0</th>\n",
       "      <th>reviewer_id</th>\n",
       "      <th>reviewer_name</th>\n",
       "      <th>soloTrip</th>\n",
       "      <th>FamilyTrip</th>\n",
       "      <th>Holiday</th>\n",
       "      <th>Business</th>\n",
       "      <th>short</th>\n",
       "      <th>long</th>\n",
       "      <th>listings</th>\n",
       "      <th>ratings</th>\n",
       "      <th>coli</th>\n",
       "    </tr>\n",
       "  </thead>\n",
       "  <tbody>\n",
       "    <tr>\n",
       "      <td>0</td>\n",
       "      <td>0</td>\n",
       "      <td>64865321</td>\n",
       "      <td>Caitlin</td>\n",
       "      <td>0</td>\n",
       "      <td>1</td>\n",
       "      <td>0</td>\n",
       "      <td>1</td>\n",
       "      <td>1</td>\n",
       "      <td>0</td>\n",
       "      <td>118117</td>\n",
       "      <td>9</td>\n",
       "      <td>10110118117</td>\n",
       "    </tr>\n",
       "    <tr>\n",
       "      <td>1</td>\n",
       "      <td>1</td>\n",
       "      <td>26272480</td>\n",
       "      <td>Cristina</td>\n",
       "      <td>1</td>\n",
       "      <td>0</td>\n",
       "      <td>0</td>\n",
       "      <td>1</td>\n",
       "      <td>0</td>\n",
       "      <td>1</td>\n",
       "      <td>545821</td>\n",
       "      <td>7</td>\n",
       "      <td>100101545821</td>\n",
       "    </tr>\n",
       "    <tr>\n",
       "      <td>2</td>\n",
       "      <td>2</td>\n",
       "      <td>73490335</td>\n",
       "      <td>Bruno</td>\n",
       "      <td>1</td>\n",
       "      <td>0</td>\n",
       "      <td>0</td>\n",
       "      <td>1</td>\n",
       "      <td>0</td>\n",
       "      <td>1</td>\n",
       "      <td>55868</td>\n",
       "      <td>7</td>\n",
       "      <td>10010155868</td>\n",
       "    </tr>\n",
       "    <tr>\n",
       "      <td>3</td>\n",
       "      <td>3</td>\n",
       "      <td>9938883</td>\n",
       "      <td>Román</td>\n",
       "      <td>0</td>\n",
       "      <td>1</td>\n",
       "      <td>0</td>\n",
       "      <td>1</td>\n",
       "      <td>0</td>\n",
       "      <td>1</td>\n",
       "      <td>85145</td>\n",
       "      <td>6</td>\n",
       "      <td>1010185145</td>\n",
       "    </tr>\n",
       "    <tr>\n",
       "      <td>4</td>\n",
       "      <td>4</td>\n",
       "      <td>3824717</td>\n",
       "      <td>Татьяна</td>\n",
       "      <td>1</td>\n",
       "      <td>0</td>\n",
       "      <td>0</td>\n",
       "      <td>1</td>\n",
       "      <td>1</td>\n",
       "      <td>0</td>\n",
       "      <td>305809</td>\n",
       "      <td>6</td>\n",
       "      <td>100110305809</td>\n",
       "    </tr>\n",
       "    <tr>\n",
       "      <td>...</td>\n",
       "      <td>...</td>\n",
       "      <td>...</td>\n",
       "      <td>...</td>\n",
       "      <td>...</td>\n",
       "      <td>...</td>\n",
       "      <td>...</td>\n",
       "      <td>...</td>\n",
       "      <td>...</td>\n",
       "      <td>...</td>\n",
       "      <td>...</td>\n",
       "      <td>...</td>\n",
       "      <td>...</td>\n",
       "    </tr>\n",
       "    <tr>\n",
       "      <td>599995</td>\n",
       "      <td>599995</td>\n",
       "      <td>67625525</td>\n",
       "      <td>Kelly</td>\n",
       "      <td>1</td>\n",
       "      <td>0</td>\n",
       "      <td>0</td>\n",
       "      <td>1</td>\n",
       "      <td>1</td>\n",
       "      <td>0</td>\n",
       "      <td>59182</td>\n",
       "      <td>2</td>\n",
       "      <td>10011059182</td>\n",
       "    </tr>\n",
       "    <tr>\n",
       "      <td>599996</td>\n",
       "      <td>599996</td>\n",
       "      <td>4786209</td>\n",
       "      <td>Simon</td>\n",
       "      <td>0</td>\n",
       "      <td>1</td>\n",
       "      <td>0</td>\n",
       "      <td>1</td>\n",
       "      <td>1</td>\n",
       "      <td>0</td>\n",
       "      <td>21167</td>\n",
       "      <td>5</td>\n",
       "      <td>1011021167</td>\n",
       "    </tr>\n",
       "    <tr>\n",
       "      <td>599997</td>\n",
       "      <td>599997</td>\n",
       "      <td>13661577</td>\n",
       "      <td>Josh</td>\n",
       "      <td>1</td>\n",
       "      <td>0</td>\n",
       "      <td>0</td>\n",
       "      <td>1</td>\n",
       "      <td>0</td>\n",
       "      <td>1</td>\n",
       "      <td>203658</td>\n",
       "      <td>5</td>\n",
       "      <td>100101203658</td>\n",
       "    </tr>\n",
       "    <tr>\n",
       "      <td>599998</td>\n",
       "      <td>599998</td>\n",
       "      <td>21627535</td>\n",
       "      <td>Višnja</td>\n",
       "      <td>1</td>\n",
       "      <td>0</td>\n",
       "      <td>1</td>\n",
       "      <td>0</td>\n",
       "      <td>1</td>\n",
       "      <td>0</td>\n",
       "      <td>135097</td>\n",
       "      <td>0</td>\n",
       "      <td>101010135097</td>\n",
       "    </tr>\n",
       "    <tr>\n",
       "      <td>599999</td>\n",
       "      <td>599999</td>\n",
       "      <td>35505495</td>\n",
       "      <td>Jill</td>\n",
       "      <td>1</td>\n",
       "      <td>0</td>\n",
       "      <td>0</td>\n",
       "      <td>1</td>\n",
       "      <td>1</td>\n",
       "      <td>0</td>\n",
       "      <td>33114</td>\n",
       "      <td>0</td>\n",
       "      <td>10011033114</td>\n",
       "    </tr>\n",
       "  </tbody>\n",
       "</table>\n",
       "<p>600000 rows × 12 columns</p>\n",
       "</div>"
      ],
      "text/plain": [
       "        Unnamed: 0  reviewer_id reviewer_name  soloTrip  FamilyTrip  Holiday  \\\n",
       "0                0     64865321       Caitlin         0           1        0   \n",
       "1                1     26272480      Cristina         1           0        0   \n",
       "2                2     73490335         Bruno         1           0        0   \n",
       "3                3      9938883         Román         0           1        0   \n",
       "4                4      3824717       Татьяна         1           0        0   \n",
       "...            ...          ...           ...       ...         ...      ...   \n",
       "599995      599995     67625525         Kelly         1           0        0   \n",
       "599996      599996      4786209         Simon         0           1        0   \n",
       "599997      599997     13661577          Josh         1           0        0   \n",
       "599998      599998     21627535        Višnja         1           0        1   \n",
       "599999      599999     35505495          Jill         1           0        0   \n",
       "\n",
       "        Business  short  long  listings  ratings          coli  \n",
       "0              1      1     0    118117        9   10110118117  \n",
       "1              1      0     1    545821        7  100101545821  \n",
       "2              1      0     1     55868        7   10010155868  \n",
       "3              1      0     1     85145        6    1010185145  \n",
       "4              1      1     0    305809        6  100110305809  \n",
       "...          ...    ...   ...       ...      ...           ...  \n",
       "599995         1      1     0     59182        2   10011059182  \n",
       "599996         1      1     0     21167        5    1011021167  \n",
       "599997         1      0     1    203658        5  100101203658  \n",
       "599998         0      1     0    135097        0  101010135097  \n",
       "599999         1      1     0     33114        0   10011033114  \n",
       "\n",
       "[600000 rows x 12 columns]"
      ]
     },
     "execution_count": 3,
     "metadata": {},
     "output_type": "execute_result"
    }
   ],
   "source": [
    "dfC= pd.read_csv('Final_usersData_listings_600k_combinedlistingID.csv')\n",
    "dfC"
   ]
  },
  {
   "cell_type": "code",
   "execution_count": 29,
   "metadata": {},
   "outputs": [
    {
     "data": {
      "text/html": [
       "<div>\n",
       "<style scoped>\n",
       "    .dataframe tbody tr th:only-of-type {\n",
       "        vertical-align: middle;\n",
       "    }\n",
       "\n",
       "    .dataframe tbody tr th {\n",
       "        vertical-align: top;\n",
       "    }\n",
       "\n",
       "    .dataframe thead th {\n",
       "        text-align: right;\n",
       "    }\n",
       "</style>\n",
       "<table border=\"1\" class=\"dataframe\">\n",
       "  <thead>\n",
       "    <tr style=\"text-align: right;\">\n",
       "      <th></th>\n",
       "      <th>reviewer_id</th>\n",
       "      <th>reviewer_name</th>\n",
       "      <th>soloTrip</th>\n",
       "      <th>FamilyTrip</th>\n",
       "      <th>Holiday</th>\n",
       "      <th>Business</th>\n",
       "      <th>short</th>\n",
       "      <th>long</th>\n",
       "      <th>listings</th>\n",
       "      <th>ratings</th>\n",
       "      <th>coli</th>\n",
       "    </tr>\n",
       "  </thead>\n",
       "  <tbody>\n",
       "    <tr>\n",
       "      <th>2727</th>\n",
       "      <td>76726</td>\n",
       "      <td>Patricia</td>\n",
       "      <td>1</td>\n",
       "      <td>0</td>\n",
       "      <td>0</td>\n",
       "      <td>1</td>\n",
       "      <td>1</td>\n",
       "      <td>0</td>\n",
       "      <td>28658</td>\n",
       "      <td>7</td>\n",
       "      <td>10011028658</td>\n",
       "    </tr>\n",
       "  </tbody>\n",
       "</table>\n",
       "</div>"
      ],
      "text/plain": [
       "      reviewer_id reviewer_name  soloTrip  FamilyTrip  Holiday  Business  \\\n",
       "2727        76726      Patricia         1           0        0         1   \n",
       "\n",
       "      short  long  listings  ratings         coli  \n",
       "2727      1     0     28658        7  10011028658  "
      ]
     },
     "execution_count": 29,
     "metadata": {},
     "output_type": "execute_result"
    }
   ],
   "source": [
    "# ratCheck"
   ]
  },
  {
   "cell_type": "code",
   "execution_count": 30,
   "metadata": {},
   "outputs": [],
   "source": [
    "# predict1 = SVDalgo.predict(uid=76726, iid= '10011028658')"
   ]
  },
  {
   "cell_type": "code",
   "execution_count": 31,
   "metadata": {},
   "outputs": [
    {
     "data": {
      "text/plain": [
       "Prediction(uid=76726, iid='10011028658', r_ui=None, est=6.2534008335803675, details={'was_impossible': False})"
      ]
     },
     "execution_count": 31,
     "metadata": {},
     "output_type": "execute_result"
    }
   ],
   "source": [
    "# predict1"
   ]
  },
  {
   "cell_type": "code",
   "execution_count": 4,
   "metadata": {},
   "outputs": [],
   "source": [
    "df1 = dfC[['reviewer_id','coli','ratings']]"
   ]
  },
  {
   "cell_type": "code",
   "execution_count": 5,
   "metadata": {},
   "outputs": [],
   "source": [
    "reader = Reader(rating_scale=(0,10))\n",
    "dataSet=Dataset.load_from_df(df1,reader)"
   ]
  },
  {
   "cell_type": "code",
   "execution_count": 6,
   "metadata": {},
   "outputs": [
    {
     "data": {
      "text/plain": [
       "600"
      ]
     },
     "execution_count": 6,
     "metadata": {},
     "output_type": "execute_result"
    }
   ],
   "source": [
    "len(dfC.listings.unique())"
   ]
  },
  {
   "cell_type": "code",
   "execution_count": 7,
   "metadata": {},
   "outputs": [],
   "source": [
    "train_df, test_df = train_test_split(dataSet, test_size=0.1)"
   ]
  },
  {
   "cell_type": "code",
   "execution_count": null,
   "metadata": {},
   "outputs": [],
   "source": [
    "# user - prodcut  - SVD "
   ]
  },
  {
   "cell_type": "code",
   "execution_count": 50,
   "metadata": {},
   "outputs": [],
   "source": [
    "SVDalgo = SVD(n_factors=400, reg_all=0.7, n_epochs=30)\n",
    "SVDalgo.fit(train_df)\n",
    "pred_svd = SVDalgo.test(test_df)"
   ]
  },
  {
   "cell_type": "code",
   "execution_count": 51,
   "metadata": {},
   "outputs": [
    {
     "name": "stdout",
     "output_type": "stream",
     "text": [
      "RMSE: 2.9411\n"
     ]
    },
    {
     "data": {
      "text/plain": [
       "2.9411469764828286"
      ]
     },
     "execution_count": 51,
     "metadata": {},
     "output_type": "execute_result"
    }
   ],
   "source": [
    "accuracy.rmse(pred_svd, verbose=True) "
   ]
  },
  {
   "cell_type": "code",
   "execution_count": null,
   "metadata": {},
   "outputs": [],
   "source": [
    "# listing - listing based"
   ]
  },
  {
   "cell_type": "code",
   "execution_count": 16,
   "metadata": {},
   "outputs": [
    {
     "name": "stdout",
     "output_type": "stream",
     "text": [
      "Computing the msd similarity matrix...\n",
      "Done computing similarity matrix.\n"
     ]
    }
   ],
   "source": [
    "op={\n",
    "    'name':'msd',\n",
    "    'user_based':False\n",
    "}\n",
    "knn=KNNBasic(sim_options=op,k=100,min_k=6)\n",
    "knn.fit(train_df)\n",
    "pred_knn=knn.test(test_df)"
   ]
  },
  {
   "cell_type": "code",
   "execution_count": 17,
   "metadata": {},
   "outputs": [
    {
     "name": "stdout",
     "output_type": "stream",
     "text": [
      "RMSE: 2.9491\n"
     ]
    },
    {
     "data": {
      "text/plain": [
       "2.949094208277043"
      ]
     },
     "execution_count": 17,
     "metadata": {},
     "output_type": "execute_result"
    }
   ],
   "source": [
    "accuracy.rmse(pred_knn)"
   ]
  },
  {
   "cell_type": "code",
   "execution_count": 18,
   "metadata": {},
   "outputs": [
    {
     "name": "stdout",
     "output_type": "stream",
     "text": [
      "Computing the cosine similarity matrix...\n",
      "Done computing similarity matrix.\n"
     ]
    }
   ],
   "source": [
    "op={\n",
    "    'name':'cosine',\n",
    "    'user_based':False\n",
    "}\n",
    "knnC=KNNBasic(sim_options=op,k=100,min_k=6)\n",
    "knnC.fit(train_df)\n",
    "pred_knnC=knnC.test(test_df)"
   ]
  },
  {
   "cell_type": "code",
   "execution_count": 19,
   "metadata": {},
   "outputs": [
    {
     "name": "stdout",
     "output_type": "stream",
     "text": [
      "RMSE: 2.9482\n"
     ]
    },
    {
     "data": {
      "text/plain": [
       "2.9482036458253185"
      ]
     },
     "execution_count": 19,
     "metadata": {},
     "output_type": "execute_result"
    }
   ],
   "source": [
    "prediction1= pred_knnC.predict(uid=, iid=)\n",
    "prediction1.est\n",
    "accuracy.rmse(pred_knnC)"
   ]
  },
  {
   "cell_type": "code",
   "execution_count": null,
   "metadata": {},
   "outputs": [],
   "source": [
    " # user - user based"
   ]
  },
  {
   "cell_type": "code",
   "execution_count": 20,
   "metadata": {},
   "outputs": [
    {
     "name": "stdout",
     "output_type": "stream",
     "text": [
      "Computing the msd similarity matrix...\n",
      "Done computing similarity matrix.\n"
     ]
    }
   ],
   "source": [
    "ops={\n",
    "    'name':'msd',\n",
    "    'user_based':True\n",
    "}\n",
    "knnU=KNNBasic(sim_options=ops,k=100,min_k=6)\n",
    "knnU.fit(train_df)\n",
    "predU_knn=knnU.test(test_df)"
   ]
  },
  {
   "cell_type": "code",
   "execution_count": 21,
   "metadata": {},
   "outputs": [
    {
     "name": "stdout",
     "output_type": "stream",
     "text": [
      "RMSE: 2.9499\n"
     ]
    },
    {
     "data": {
      "text/plain": [
       "2.949868408222363"
      ]
     },
     "execution_count": 21,
     "metadata": {},
     "output_type": "execute_result"
    }
   ],
   "source": [
    "accuracy.rmse(predU_knn)"
   ]
  },
  {
   "cell_type": "code",
   "execution_count": 22,
   "metadata": {},
   "outputs": [
    {
     "name": "stdout",
     "output_type": "stream",
     "text": [
      "Computing the cosine similarity matrix...\n",
      "Done computing similarity matrix.\n"
     ]
    }
   ],
   "source": [
    "ops={\n",
    "    'name':'cosine',\n",
    "    'user_based':True\n",
    "}\n",
    "knnUC=KNNBasic(sim_options=ops,k=100,min_k=6)\n",
    "knnUC.fit(train_df)\n",
    "predUC_knn=knnUC.test(test_df)"
   ]
  },
  {
   "cell_type": "code",
   "execution_count": 23,
   "metadata": {},
   "outputs": [
    {
     "name": "stdout",
     "output_type": "stream",
     "text": [
      "RMSE: 2.9496\n"
     ]
    },
    {
     "data": {
      "text/plain": [
       "2.949607730640756"
      ]
     },
     "execution_count": 23,
     "metadata": {},
     "output_type": "execute_result"
    }
   ],
   "source": [
    "accuracy.rmse(predUC_knn)"
   ]
  },
  {
   "cell_type": "code",
   "execution_count": null,
   "metadata": {},
   "outputs": [],
   "source": [
    "# dont run below cv thing not needed"
   ]
  },
  {
   "cell_type": "code",
   "execution_count": 20,
   "metadata": {},
   "outputs": [
    {
     "name": "stdout",
     "output_type": "stream",
     "text": [
      "Evaluating RMSE of algorithm SVD on 5 split(s).\n",
      "\n",
      "                  Fold 1  Fold 2  Fold 3  Fold 4  Fold 5  Mean    Std     \n",
      "RMSE (testset)    4.0976  4.1125  4.1118  4.0979  4.1019  4.1043  0.0066  \n",
      "Fit time          44.95   45.28   45.40   45.30   45.62   45.31   0.21    \n",
      "Test time         1.54    1.16    1.16    1.47    1.17    1.30    0.17    \n"
     ]
    },
    {
     "data": {
      "text/plain": [
       "{'test_rmse': array([4.09755074, 4.11249455, 4.11181677, 4.09789085, 4.10188303]),\n",
       " 'fit_time': (44.954246044158936,\n",
       "  45.28276467323303,\n",
       "  45.40259027481079,\n",
       "  45.3031280040741,\n",
       "  45.61664915084839),\n",
       " 'test_time': (1.5436601638793945,\n",
       "  1.1578338146209717,\n",
       "  1.1561369895935059,\n",
       "  1.4745919704437256,\n",
       "  1.1695492267608643)}"
      ]
     },
     "execution_count": 20,
     "metadata": {},
     "output_type": "execute_result"
    }
   ],
   "source": [
    "CrossSVDalgo=SVD(n_factors=100,reg_all=0.006, n_epochs=30)\n",
    "cross_validate(CrossSVDalgo, dataSet, measures=['RMSE'], cv=5, verbose=True)"
   ]
  },
  {
   "cell_type": "code",
   "execution_count": 24,
   "metadata": {},
   "outputs": [
    {
     "name": "stdout",
     "output_type": "stream",
     "text": [
      "Estimating biases using sgd...\n"
     ]
    },
    {
     "data": {
      "text/plain": [
       "<surprise.prediction_algorithms.baseline_only.BaselineOnly at 0x11672a050>"
      ]
     },
     "execution_count": 24,
     "metadata": {},
     "output_type": "execute_result"
    }
   ],
   "source": [
    "bsl_options = {'method': 'sgd',  # another option is sgd\n",
    "                   'n_epochs': 30,  # number of iterations\n",
    "                   'reg_u': 1,  # user-regularisation parameter\n",
    "                   'reg_i': 1  # item-regularisation parameter\n",
    "                   }\n",
    "bl = BaselineOnly(bsl_options=bsl_options)\n",
    "bl.fit(train_df)"
   ]
  },
  {
   "cell_type": "code",
   "execution_count": 25,
   "metadata": {},
   "outputs": [
    {
     "name": "stdout",
     "output_type": "stream",
     "text": [
      "RMSE: 2.9518\n"
     ]
    },
    {
     "data": {
      "text/plain": [
       "2.9517531939873627"
      ]
     },
     "execution_count": 25,
     "metadata": {},
     "output_type": "execute_result"
    }
   ],
   "source": [
    "pred_base=bl.test(test_df)\n",
    "accuracy.rmse(pred_base)"
   ]
  },
  {
   "cell_type": "code",
   "execution_count": 36,
   "metadata": {},
   "outputs": [],
   "source": [
    "# for product and reviewer"
   ]
  },
  {
   "cell_type": "code",
   "execution_count": null,
   "metadata": {},
   "outputs": [],
   "source": [
    "# ensemble all the models\n"
   ]
  }
 ],
 "metadata": {
  "kernelspec": {
   "display_name": "Python 3",
   "language": "python",
   "name": "python3"
  },
  "language_info": {
   "codemirror_mode": {
    "name": "ipython",
    "version": 3
   },
   "file_extension": ".py",
   "mimetype": "text/x-python",
   "name": "python",
   "nbconvert_exporter": "python",
   "pygments_lexer": "ipython3",
   "version": "3.7.6"
  }
 },
 "nbformat": 4,
 "nbformat_minor": 4
}
